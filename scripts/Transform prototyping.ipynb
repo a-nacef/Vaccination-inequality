{
 "cells": [
  {
   "cell_type": "code",
   "execution_count": 1,
   "source": [
    "import pandas as pd\n",
    "import numpy as np\n",
    "import matplotlib.pyplot as plt\n",
    "import sys"
   ],
   "outputs": [],
   "metadata": {}
  },
  {
   "cell_type": "code",
   "execution_count": 2,
   "source": [
    "df = pd.read_csv('v_data.csv')"
   ],
   "outputs": [],
   "metadata": {}
  },
  {
   "cell_type": "code",
   "execution_count": 3,
   "source": [
    "#This is a pruned dataframe with a subset of the columns that we'll be using for this exploratory anaylsis\n",
    "values = ['total_vaccinations', 'people_vaccinated', 'daily_vaccinations_per_million']\n",
    "prn_df = df[['location', 'date', 'total_vaccinations', 'people_vaccinated', 'daily_vaccinations_per_million']]"
   ],
   "outputs": [],
   "metadata": {}
  },
  {
   "cell_type": "code",
   "execution_count": 4,
   "source": [
    "#This is to see which locations have the most missing data, we could have ran count() on any of the columns \n",
    "#since dropna() drops all Na rows\n",
    "count_series = prn_df.dropna().groupby('location')['date'].count()"
   ],
   "outputs": [],
   "metadata": {}
  },
  {
   "cell_type": "code",
   "execution_count": 5,
   "source": [
    "#describe tells us the average number of entries is 111, but std-dev is fairly significant at 93, we'll need to look at the list \n",
    "#of indices (locations) with above average sampling, as better reporting probably implies higher quality data\n",
    "count_series.describe()['mean']"
   ],
   "outputs": [
    {
     "output_type": "execute_result",
     "data": {
      "text/plain": [
       "111.48497854077253"
      ]
     },
     "metadata": {},
     "execution_count": 5
    }
   ],
   "metadata": {}
  },
  {
   "cell_type": "code",
   "execution_count": 6,
   "source": [
    "x = count_series.describe()['mean']\n",
    "ab_avg = [ind for ind in count_series.index if count_series[ind]>x]\n",
    "ab_avg"
   ],
   "outputs": [
    {
     "output_type": "execute_result",
     "data": {
      "text/plain": [
       "['Africa',\n",
       " 'Argentina',\n",
       " 'Aruba',\n",
       " 'Asia',\n",
       " 'Australia',\n",
       " 'Austria',\n",
       " 'Azerbaijan',\n",
       " 'Bahrain',\n",
       " 'Bangladesh',\n",
       " 'Barbados',\n",
       " 'Belgium',\n",
       " 'Bolivia',\n",
       " 'Brazil',\n",
       " 'Bulgaria',\n",
       " 'Cambodia',\n",
       " 'Canada',\n",
       " 'Chile',\n",
       " 'Colombia',\n",
       " \"Cote d'Ivoire\",\n",
       " 'Croatia',\n",
       " 'Curacao',\n",
       " 'Czechia',\n",
       " 'Denmark',\n",
       " 'Dominican Republic',\n",
       " 'Ecuador',\n",
       " 'England',\n",
       " 'Estonia',\n",
       " 'Europe',\n",
       " 'European Union',\n",
       " 'Finland',\n",
       " 'France',\n",
       " 'Georgia',\n",
       " 'Germany',\n",
       " 'Gibraltar',\n",
       " 'Greece',\n",
       " 'Guatemala',\n",
       " 'High income',\n",
       " 'Hong Kong',\n",
       " 'Hungary',\n",
       " 'India',\n",
       " 'Indonesia',\n",
       " 'Ireland',\n",
       " 'Isle of Man',\n",
       " 'Israel',\n",
       " 'Italy',\n",
       " 'Japan',\n",
       " 'Kazakhstan',\n",
       " 'Kenya',\n",
       " 'Latvia',\n",
       " 'Lebanon',\n",
       " 'Liechtenstein',\n",
       " 'Lithuania',\n",
       " 'Low income',\n",
       " 'Lower middle income',\n",
       " 'Luxembourg',\n",
       " 'Macao',\n",
       " 'Malawi',\n",
       " 'Malaysia',\n",
       " 'Maldives',\n",
       " 'Malta',\n",
       " 'Mexico',\n",
       " 'Moldova',\n",
       " 'Mongolia',\n",
       " 'Montenegro',\n",
       " 'Morocco',\n",
       " 'Namibia',\n",
       " 'Nepal',\n",
       " 'New Zealand',\n",
       " 'North America',\n",
       " 'Northern Ireland',\n",
       " 'Norway',\n",
       " 'Oceania',\n",
       " 'Palestine',\n",
       " 'Panama',\n",
       " 'Paraguay',\n",
       " 'Peru',\n",
       " 'Poland',\n",
       " 'Portugal',\n",
       " 'Qatar',\n",
       " 'Romania',\n",
       " 'Russia',\n",
       " 'Scotland',\n",
       " 'Serbia',\n",
       " 'Slovakia',\n",
       " 'Slovenia',\n",
       " 'South Africa',\n",
       " 'South America',\n",
       " 'South Korea',\n",
       " 'Spain',\n",
       " 'Sri Lanka',\n",
       " 'Suriname',\n",
       " 'Switzerland',\n",
       " 'Taiwan',\n",
       " 'Thailand',\n",
       " 'Trinidad and Tobago',\n",
       " 'Tunisia',\n",
       " 'Turkey',\n",
       " 'Ukraine',\n",
       " 'United Kingdom',\n",
       " 'United States',\n",
       " 'Upper middle income',\n",
       " 'Uruguay',\n",
       " 'Vietnam',\n",
       " 'Wales',\n",
       " 'World',\n",
       " 'Zimbabwe']"
      ]
     },
     "metadata": {},
     "execution_count": 6
    }
   ],
   "metadata": {}
  },
  {
   "cell_type": "code",
   "execution_count": 7,
   "source": [
    "#List seems fairly varied, we'll be arbitrarily selecting some countries to include in our analyses\n",
    "Countries = ['World', 'Asia', 'Africa', 'Europe', \n",
    "             'France', 'Italy', 'Spain', 'Germany', 'United Kingdom', 'Russia', 'Scotland', 'Norway', 'Belgium',\n",
    "             'United States', 'Canada', 'Mexico', 'Brazil', \n",
    "             'Zimbabwe', 'South Africa', 'Morocco', 'Algeria', 'Tunisia',\n",
    "             'Taiwan', 'Hong Kong', 'India', 'Thailand', 'Sri Lanka', 'Japan', 'South Korea', 'Vietnam', 'Indonesia', 'Australia',\n",
    "             'Qatar', 'Bahrain', 'Israel', 'Turkey',\n",
    "             'Low income', 'High income', 'Upper middle income', 'Lower middle income' \n",
    "            ]\n",
    "#final_df = prn_df.dropna().drop(index=[prn_df[ind].index for ind in list((set(count_series.index)-set(Countries)))])"
   ],
   "outputs": [],
   "metadata": {}
  },
  {
   "cell_type": "code",
   "execution_count": 8,
   "source": [
    "#Computing a final dataframe \n",
    "final_df = prn_df.pivot_table(values, index=['location','date']).loc[Countries]"
   ],
   "outputs": [],
   "metadata": {}
  },
  {
   "cell_type": "code",
   "execution_count": 9,
   "source": [
    "final_df.fillna(0, inplace=True)"
   ],
   "outputs": [],
   "metadata": {}
  },
  {
   "cell_type": "code",
   "execution_count": 11,
   "source": [
    "final_df.dtypes"
   ],
   "outputs": [
    {
     "output_type": "execute_result",
     "data": {
      "text/plain": [
       "daily_vaccinations_per_million    float64\n",
       "people_vaccinated                 float64\n",
       "total_vaccinations                float64\n",
       "dtype: object"
      ]
     },
     "metadata": {},
     "execution_count": 11
    }
   ],
   "metadata": {}
  }
 ],
 "metadata": {
  "kernelspec": {
   "name": "python3",
   "display_name": "Python 3.8.10 64-bit"
  },
  "language_info": {
   "codemirror_mode": {
    "name": "ipython",
    "version": 3
   },
   "file_extension": ".py",
   "mimetype": "text/x-python",
   "name": "python",
   "nbconvert_exporter": "python",
   "pygments_lexer": "ipython3",
   "version": "3.8.10"
  },
  "interpreter": {
   "hash": "916dbcbb3f70747c44a77c7bcd40155683ae19c65e1c03b4aa3499c5328201f1"
  }
 },
 "nbformat": 4,
 "nbformat_minor": 5
}